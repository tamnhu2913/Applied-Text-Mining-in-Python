{
  "cells": [
    {
      "cell_type": "markdown",
      "metadata": {
        "id": "view-in-github",
        "colab_type": "text"
      },
      "source": [
        "<a href=\"https://colab.research.google.com/github/tamnhu2913/Applied-Text-Mining-in-Python/blob/main/assignment1.ipynb\" target=\"_parent\"><img src=\"https://colab.research.google.com/assets/colab-badge.svg\" alt=\"Open In Colab\"/></a>"
      ]
    },
    {
      "cell_type": "markdown",
      "metadata": {
        "deletable": false,
        "editable": false,
        "nbgrader": {
          "cell_type": "markdown",
          "checksum": "cacf7f4360d6d53c622742f64048f72c",
          "grade": false,
          "grade_id": "cell-8a754c8ce8a16eeb",
          "locked": true,
          "schema_version": 3,
          "solution": false,
          "task": false
        },
        "id": "P_OmvJlxJd0C"
      },
      "source": [
        "# Assignment 1\n",
        "\n",
        "In this assignment, you'll be working with messy medical data and using regex to extract relevant infromation from the data.\n",
        "\n",
        "Each line of the `dates.txt` file corresponds to a medical note. Each note has a date that needs to be extracted, but each date is encoded in one of many formats.\n",
        "\n",
        "The goal of this assignment is to correctly identify all of the different date variants encoded in this dataset and to properly normalize and sort the dates.\n",
        "\n",
        "Here is a list of some of the variants you might encounter in this dataset:\n",
        "* 04/20/2009; 04/20/09; 4/20/09; 4/3/09\n",
        "* Mar-20-2009; Mar 20, 2009; March 20, 2009;  Mar. 20, 2009; Mar 20 2009;\n",
        "* 20 Mar 2009; 20 March 2009; 20 Mar. 2009; 20 March, 2009\n",
        "* Mar 20th, 2009; Mar 21st, 2009; Mar 22nd, 2009\n",
        "* Feb 2009; Sep 2009; Oct 2010\n",
        "* 6/2008; 12/2009\n",
        "* 2009; 2010\n",
        "\n",
        "Once you have extracted these date patterns from the text, the next step is to sort them in ascending chronological order accoring to the following rules:\n",
        "* Assume all dates in xx/xx/xx format are mm/dd/yy\n",
        "* Assume all dates where year is encoded in only two digits are years from the 1900's (e.g. 1/5/89 is January 5th, 1989)\n",
        "* If the day is missing (e.g. 9/2009), assume it is the first day of the month (e.g. September 1, 2009).\n",
        "* If the month is missing (e.g. 2010), assume it is the first of January of that year (e.g. January 1, 2010).\n",
        "* Watch out for potential typos as this is a raw, real-life derived dataset.\n",
        "\n",
        "With these rules in mind, find the correct date in each note and return a pandas Series in chronological order of the original Series' indices. **This Series should be sorted by a tie-break sort in the format of (\"extracted date\", \"original row number\").**\n",
        "\n",
        "For example if the original series was this:\n",
        "\n",
        "    0    1999\n",
        "    1    2010\n",
        "    2    1978\n",
        "    3    2015\n",
        "    4    1985\n",
        "\n",
        "Your function should return this:\n",
        "\n",
        "    0    2\n",
        "    1    4\n",
        "    2    0\n",
        "    3    1\n",
        "    4    3\n",
        "\n",
        "Your score will be calculated using [Kendall's tau](https://en.wikipedia.org/wiki/Kendall_rank_correlation_coefficient), a correlation measure for ordinal data.\n",
        "\n",
        "*This function should return a Series of length 500 and dtype int.*"
      ]
    },
    {
      "cell_type": "code",
      "execution_count": null,
      "metadata": {
        "deletable": false,
        "editable": false,
        "nbgrader": {
          "cell_type": "code",
          "checksum": "4b47ce38a503bfb1f113580f394d8667",
          "grade": false,
          "grade_id": "cell-28048f36edc32946",
          "locked": true,
          "schema_version": 3,
          "solution": false,
          "task": false
        },
        "id": "kka5uNkHJd0I"
      },
      "outputs": [],
      "source": [
        "import pandas as pd\n",
        "\n",
        "doc = []\n",
        "with open('assets/dates.txt') as file:\n",
        "    for line in file:\n",
        "        doc.append(line)\n",
        "\n",
        "df = pd.Series(doc)\n",
        "df.head(10)"
      ]
    },
    {
      "cell_type": "code",
      "execution_count": null,
      "metadata": {
        "deletable": false,
        "nbgrader": {
          "cell_type": "code",
          "checksum": "3e58e227860ae4b02d6bdddd81506787",
          "grade": false,
          "grade_id": "cell-d6f35a51303ed6ff",
          "locked": false,
          "schema_version": 3,
          "solution": true,
          "task": false
        },
        "id": "lfemkHD6Jd0J"
      },
      "outputs": [],
      "source": [
        "def date_sorter():\n",
        "  regex1 = r'(\\d{1,2}[/-]\\d{1,2}[/-](\\d{2}|\\d{4})\\b)' #04/20/2009; 04/20/09; 4/20/09; 4/3/09\n",
        "  regex2 = r'(\\d{1,2}\\s[A-Z][a-z]+\\s\\d{4})' #20 Mar 2009; 20 March 2009\n",
        "  regex3 = r'([A-Z][a-z]+\\.?\\s\\d{2},?\\s\\d{4})' #Mar. 20, 2009; March 20, 2009; Mar. 20 2009; Mar 20 2009\n",
        "  regex4 = r'([A-Z][a-z]+,?\\s\\d{4})' #Mar. 2009; March 2009\n",
        "  regex5 = r'(\\d{1,2}/\\d{4})' #6/2008; 12/2009\n",
        "  regex6 = r'([1|2]\\d{3})' #2009\n",
        "\n",
        "  regex = f'({regex1}|{regex2}|{regex3}|{regex4}|{regex5}|{regex6})'\n",
        "  parsed_date = df.str.extractall(regex)[0].reset_index(drop=True)\n",
        "  parsed_date = parsed_date.str.split(expand = True)\n",
        "\n",
        "  parsed_date[0] = parsed_date[0].replace({'Since': None,'Age': None,'In': None,\n",
        "                                           'Janaury': 'January', 'Decemeber': 'December'})\n",
        "  parsed_date.loc[461, 1] = None\n",
        "\n",
        "  for i in range(parsed_date.shape[1]):\n",
        "    parsed_date[i] = parsed_date[i].fillna('')\n",
        "  parsed_date = (parsed_date[0]+' '+parsed_date[1]+' '+parsed_date[2]).str.strip().str.replace(r'[.,]','', regex = True)\n",
        "\n",
        "  date_formats = ['%m/%d/%y', '%m/%d/%Y', '%m-%d-%y', '%d %b %Y', '%d %B %Y',\n",
        "                    '%b %d %Y', '%B %d %Y', '%b %Y', '%B %Y', '%m/%Y', '%Y']\n",
        "\n",
        "  dts = pd.to_datetime(parsed_date, format=date_formats[0], errors='coerce')\n",
        "  for fmt in date_formats[1:]:\n",
        "      dts = dts.fillna(pd.to_datetime(parsed_date, format=fmt, errors='coerce'))\n",
        "\n",
        "  return pd.Series(dts.sort_values().index)"
      ]
    },
    {
      "cell_type": "code",
      "execution_count": null,
      "metadata": {
        "deletable": false,
        "editable": false,
        "nbgrader": {
          "cell_type": "code",
          "checksum": "c0843c1f0ad2aaa45fa9ac4012f1aa43",
          "grade": true,
          "grade_id": "cell-373f878879c00996",
          "locked": true,
          "points": 4,
          "schema_version": 3,
          "solution": false,
          "task": false
        },
        "id": "Yir8QrwXJd0J"
      },
      "outputs": [],
      "source": []
    },
    {
      "cell_type": "code",
      "execution_count": null,
      "metadata": {
        "deletable": false,
        "editable": false,
        "nbgrader": {
          "cell_type": "code",
          "checksum": "0e2f5bb6bab79c07a81ec366c46c4d49",
          "grade": true,
          "grade_id": "cell-0ebae76e6cd794be",
          "locked": true,
          "points": 1,
          "schema_version": 3,
          "solution": false,
          "task": false
        },
        "id": "g7MIip-PJd0J"
      },
      "outputs": [],
      "source": []
    }
  ],
  "metadata": {
    "coursera": {
      "course_slug": "python-text-mining",
      "graded_item_id": "LvcWI",
      "launcher_item_id": "krne9",
      "part_id": "Mkp1I"
    },
    "kernelspec": {
      "display_name": "Python 3 (ipykernel)",
      "language": "python",
      "name": "python3"
    },
    "language_info": {
      "codemirror_mode": {
        "name": "ipython",
        "version": 3
      },
      "file_extension": ".py",
      "mimetype": "text/x-python",
      "name": "python",
      "nbconvert_exporter": "python",
      "pygments_lexer": "ipython3",
      "version": "3.10.8"
    },
    "vscode": {
      "interpreter": {
        "hash": "aee8b7b246df8f9039afb4144a1f6fd8d2ca17a180786b69acc140d282b71a49"
      }
    },
    "colab": {
      "provenance": [],
      "include_colab_link": true
    }
  },
  "nbformat": 4,
  "nbformat_minor": 0
}