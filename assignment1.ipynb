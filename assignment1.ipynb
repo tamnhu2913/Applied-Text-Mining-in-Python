{
  "cells": [
    {
      "cell_type": "markdown",
      "metadata": {
        "id": "view-in-github",
        "colab_type": "text"
      },
      "source": [
        "<a href=\"https://colab.research.google.com/github/tamnhu2913/Applied-Text-Mining-in-Python/blob/main/assignment1.ipynb\" target=\"_parent\"><img src=\"https://colab.research.google.com/assets/colab-badge.svg\" alt=\"Open In Colab\"/></a>"
      ]
    },
    {
      "cell_type": "markdown",
      "metadata": {
        "deletable": false,
        "editable": false,
        "nbgrader": {
          "cell_type": "markdown",
          "checksum": "cacf7f4360d6d53c622742f64048f72c",
          "grade": false,
          "grade_id": "cell-8a754c8ce8a16eeb",
          "locked": true,
          "schema_version": 3,
          "solution": false,
          "task": false
        },
        "id": "P_OmvJlxJd0C"
      },
      "source": [
        "# Assignment 1\n",
        "\n",
        "In this assignment, you'll be working with messy medical data and using regex to extract relevant infromation from the data.\n",
        "\n",
        "Each line of the `dates.txt` file corresponds to a medical note. Each note has a date that needs to be extracted, but each date is encoded in one of many formats.\n",
        "\n",
        "The goal of this assignment is to correctly identify all of the different date variants encoded in this dataset and to properly normalize and sort the dates.\n",
        "\n",
        "Here is a list of some of the variants you might encounter in this dataset:\n",
        "* 04/20/2009; 04/20/09; 4/20/09; 4/3/09\n",
        "* Mar-20-2009; Mar 20, 2009; March 20, 2009;  Mar. 20, 2009; Mar 20 2009;\n",
        "* 20 Mar 2009; 20 March 2009; 20 Mar. 2009; 20 March, 2009\n",
        "* Mar 20th, 2009; Mar 21st, 2009; Mar 22nd, 2009\n",
        "* Feb 2009; Sep 2009; Oct 2010\n",
        "* 6/2008; 12/2009\n",
        "* 2009; 2010\n",
        "\n",
        "Once you have extracted these date patterns from the text, the next step is to sort them in ascending chronological order accoring to the following rules:\n",
        "* Assume all dates in xx/xx/xx format are mm/dd/yy\n",
        "* Assume all dates where year is encoded in only two digits are years from the 1900's (e.g. 1/5/89 is January 5th, 1989)\n",
        "* If the day is missing (e.g. 9/2009), assume it is the first day of the month (e.g. September 1, 2009).\n",
        "* If the month is missing (e.g. 2010), assume it is the first of January of that year (e.g. January 1, 2010).\n",
        "* Watch out for potential typos as this is a raw, real-life derived dataset.\n",
        "\n",
        "With these rules in mind, find the correct date in each note and return a pandas Series in chronological order of the original Series' indices. **This Series should be sorted by a tie-break sort in the format of (\"extracted date\", \"original row number\").**\n",
        "\n",
        "For example if the original series was this:\n",
        "\n",
        "    0    1999\n",
        "    1    2010\n",
        "    2    1978\n",
        "    3    2015\n",
        "    4    1985\n",
        "\n",
        "Your function should return this:\n",
        "\n",
        "    0    2\n",
        "    1    4\n",
        "    2    0\n",
        "    3    1\n",
        "    4    3\n",
        "\n",
        "Your score will be calculated using [Kendall's tau](https://en.wikipedia.org/wiki/Kendall_rank_correlation_coefficient), a correlation measure for ordinal data.\n",
        "\n",
        "*This function should return a Series of length 500 and dtype int.*"
      ]
    },
    {
      "cell_type": "code",
      "execution_count": 1,
      "metadata": {
        "deletable": false,
        "editable": false,
        "nbgrader": {
          "cell_type": "code",
          "checksum": "4b47ce38a503bfb1f113580f394d8667",
          "grade": false,
          "grade_id": "cell-28048f36edc32946",
          "locked": true,
          "schema_version": 3,
          "solution": false,
          "task": false
        },
        "id": "kka5uNkHJd0I",
        "colab": {
          "base_uri": "https://localhost:8080/",
          "height": 397
        },
        "outputId": "c92a2b0d-7b92-4a24-d4fc-99d3e700492f"
      },
      "outputs": [
        {
          "output_type": "execute_result",
          "data": {
            "text/plain": [
              "0         03/25/93 Total time of visit (in minutes):\\n\n",
              "1                       6/18/85 Primary Care Doctor:\\n\n",
              "2    sshe plans to move as of 7/8/71 In-Home Servic...\n",
              "3                7 on 9/27/75 Audit C Score Current:\\n\n",
              "4    2/6/96 sleep studyPain Treatment Pain Level (N...\n",
              "5                    .Per 7/06/79 Movement D/O note:\\n\n",
              "6    4, 5/18/78 Patient's thoughts about current su...\n",
              "7    10/24/89 CPT Code: 90801 - Psychiatric Diagnos...\n",
              "8                         3/7/86 SOS-10 Total Score:\\n\n",
              "9             (4/10/71)Score-1Audit C Score Current:\\n\n",
              "dtype: object"
            ],
            "text/html": [
              "<div>\n",
              "<style scoped>\n",
              "    .dataframe tbody tr th:only-of-type {\n",
              "        vertical-align: middle;\n",
              "    }\n",
              "\n",
              "    .dataframe tbody tr th {\n",
              "        vertical-align: top;\n",
              "    }\n",
              "\n",
              "    .dataframe thead th {\n",
              "        text-align: right;\n",
              "    }\n",
              "</style>\n",
              "<table border=\"1\" class=\"dataframe\">\n",
              "  <thead>\n",
              "    <tr style=\"text-align: right;\">\n",
              "      <th></th>\n",
              "      <th>0</th>\n",
              "    </tr>\n",
              "  </thead>\n",
              "  <tbody>\n",
              "    <tr>\n",
              "      <th>0</th>\n",
              "      <td>03/25/93 Total time of visit (in minutes):\\n</td>\n",
              "    </tr>\n",
              "    <tr>\n",
              "      <th>1</th>\n",
              "      <td>6/18/85 Primary Care Doctor:\\n</td>\n",
              "    </tr>\n",
              "    <tr>\n",
              "      <th>2</th>\n",
              "      <td>sshe plans to move as of 7/8/71 In-Home Servic...</td>\n",
              "    </tr>\n",
              "    <tr>\n",
              "      <th>3</th>\n",
              "      <td>7 on 9/27/75 Audit C Score Current:\\n</td>\n",
              "    </tr>\n",
              "    <tr>\n",
              "      <th>4</th>\n",
              "      <td>2/6/96 sleep studyPain Treatment Pain Level (N...</td>\n",
              "    </tr>\n",
              "    <tr>\n",
              "      <th>5</th>\n",
              "      <td>.Per 7/06/79 Movement D/O note:\\n</td>\n",
              "    </tr>\n",
              "    <tr>\n",
              "      <th>6</th>\n",
              "      <td>4, 5/18/78 Patient's thoughts about current su...</td>\n",
              "    </tr>\n",
              "    <tr>\n",
              "      <th>7</th>\n",
              "      <td>10/24/89 CPT Code: 90801 - Psychiatric Diagnos...</td>\n",
              "    </tr>\n",
              "    <tr>\n",
              "      <th>8</th>\n",
              "      <td>3/7/86 SOS-10 Total Score:\\n</td>\n",
              "    </tr>\n",
              "    <tr>\n",
              "      <th>9</th>\n",
              "      <td>(4/10/71)Score-1Audit C Score Current:\\n</td>\n",
              "    </tr>\n",
              "  </tbody>\n",
              "</table>\n",
              "</div><br><label><b>dtype:</b> object</label>"
            ]
          },
          "metadata": {},
          "execution_count": 1
        }
      ],
      "source": [
        "import pandas as pd\n",
        "\n",
        "doc = []\n",
        "with open('assets/dates.txt') as file:\n",
        "    for line in file:\n",
        "        doc.append(line)\n",
        "\n",
        "df = pd.Series(doc)\n",
        "df.head(10)"
      ]
    },
    {
      "cell_type": "code",
      "execution_count": 3,
      "metadata": {
        "deletable": false,
        "nbgrader": {
          "cell_type": "code",
          "checksum": "3e58e227860ae4b02d6bdddd81506787",
          "grade": false,
          "grade_id": "cell-d6f35a51303ed6ff",
          "locked": false,
          "schema_version": 3,
          "solution": true,
          "task": false
        },
        "id": "lfemkHD6Jd0J",
        "colab": {
          "base_uri": "https://localhost:8080/",
          "height": 397
        },
        "outputId": "328ddf98-1941-40fc-c555-64b287486b08"
      },
      "outputs": [
        {
          "output_type": "execute_result",
          "data": {
            "text/plain": [
              "0      9\n",
              "1     84\n",
              "2      2\n",
              "3     53\n",
              "4     28\n",
              "5    474\n",
              "6    153\n",
              "7     13\n",
              "8    129\n",
              "9     98\n",
              "dtype: int64"
            ],
            "text/html": [
              "<div>\n",
              "<style scoped>\n",
              "    .dataframe tbody tr th:only-of-type {\n",
              "        vertical-align: middle;\n",
              "    }\n",
              "\n",
              "    .dataframe tbody tr th {\n",
              "        vertical-align: top;\n",
              "    }\n",
              "\n",
              "    .dataframe thead th {\n",
              "        text-align: right;\n",
              "    }\n",
              "</style>\n",
              "<table border=\"1\" class=\"dataframe\">\n",
              "  <thead>\n",
              "    <tr style=\"text-align: right;\">\n",
              "      <th></th>\n",
              "      <th>0</th>\n",
              "    </tr>\n",
              "  </thead>\n",
              "  <tbody>\n",
              "    <tr>\n",
              "      <th>0</th>\n",
              "      <td>9</td>\n",
              "    </tr>\n",
              "    <tr>\n",
              "      <th>1</th>\n",
              "      <td>84</td>\n",
              "    </tr>\n",
              "    <tr>\n",
              "      <th>2</th>\n",
              "      <td>2</td>\n",
              "    </tr>\n",
              "    <tr>\n",
              "      <th>3</th>\n",
              "      <td>53</td>\n",
              "    </tr>\n",
              "    <tr>\n",
              "      <th>4</th>\n",
              "      <td>28</td>\n",
              "    </tr>\n",
              "    <tr>\n",
              "      <th>5</th>\n",
              "      <td>474</td>\n",
              "    </tr>\n",
              "    <tr>\n",
              "      <th>6</th>\n",
              "      <td>153</td>\n",
              "    </tr>\n",
              "    <tr>\n",
              "      <th>7</th>\n",
              "      <td>13</td>\n",
              "    </tr>\n",
              "    <tr>\n",
              "      <th>8</th>\n",
              "      <td>129</td>\n",
              "    </tr>\n",
              "    <tr>\n",
              "      <th>9</th>\n",
              "      <td>98</td>\n",
              "    </tr>\n",
              "  </tbody>\n",
              "</table>\n",
              "</div><br><label><b>dtype:</b> int64</label>"
            ]
          },
          "metadata": {},
          "execution_count": 3
        }
      ],
      "source": [
        "def date_sorter():\n",
        "  regex1 = r'(\\d{1,2}[/-]\\d{1,2}[/-](\\d{2}|\\d{4})\\b)' #04/20/2009; 04/20/09; 4/20/09; 4/3/09\n",
        "  regex2 = r'(\\d{1,2}\\s[A-Z][a-z]+\\s\\d{4})' #20 Mar 2009; 20 March 2009\n",
        "  regex3 = r'([A-Z][a-z]+\\.?\\s\\d{2},?\\s\\d{4})' #Mar. 20, 2009; March 20, 2009; Mar. 20 2009; Mar 20 2009\n",
        "  regex4 = r'([A-Z][a-z]+,?\\s\\d{4})' #Mar. 2009; March 2009\n",
        "  regex5 = r'(\\d{1,2}/\\d{4})' #6/2008; 12/2009\n",
        "  regex6 = r'([1|2]\\d{3})' #2009\n",
        "\n",
        "  regex = f'({regex1}|{regex2}|{regex3}|{regex4}|{regex5}|{regex6})'\n",
        "  parsed_date = df.str.extractall(regex)[0].reset_index(drop=True)\n",
        "  parsed_date = parsed_date.str.split(expand = True)\n",
        "\n",
        "  parsed_date[0] = parsed_date[0].replace({'Since': None,'Age': None,'In': None,\n",
        "                                           'Janaury': 'January', 'Decemeber': 'December'})\n",
        "  parsed_date.loc[461, 1] = None\n",
        "\n",
        "  for i in range(parsed_date.shape[1]):\n",
        "    parsed_date[i] = parsed_date[i].fillna('')\n",
        "  parsed_date = (parsed_date[0]+' '+parsed_date[1]+' '+parsed_date[2]).str.strip().str.replace(r'[.,]','', regex = True)\n",
        "\n",
        "  date_formats = ['%m/%d/%y', '%m/%d/%Y', '%m-%d-%y', '%d %b %Y', '%d %B %Y',\n",
        "                    '%b %d %Y', '%B %d %Y', '%b %Y', '%B %Y', '%m/%Y', '%Y']\n",
        "\n",
        "  dts = pd.to_datetime(parsed_date, format=date_formats[0], errors='coerce')\n",
        "  for fmt in date_formats[1:]:\n",
        "      dts = dts.fillna(pd.to_datetime(parsed_date, format=fmt, errors='coerce'))\n",
        "\n",
        "  return pd.Series(dts.sort_values().index)\n",
        "date_sorter().head(10)"
      ]
    },
    {
      "cell_type": "code",
      "execution_count": 2,
      "metadata": {
        "deletable": false,
        "editable": false,
        "nbgrader": {
          "cell_type": "code",
          "checksum": "c0843c1f0ad2aaa45fa9ac4012f1aa43",
          "grade": true,
          "grade_id": "cell-373f878879c00996",
          "locked": true,
          "points": 4,
          "schema_version": 3,
          "solution": false,
          "task": false
        },
        "id": "Yir8QrwXJd0J"
      },
      "outputs": [],
      "source": []
    },
    {
      "cell_type": "code",
      "execution_count": 2,
      "metadata": {
        "deletable": false,
        "editable": false,
        "nbgrader": {
          "cell_type": "code",
          "checksum": "0e2f5bb6bab79c07a81ec366c46c4d49",
          "grade": true,
          "grade_id": "cell-0ebae76e6cd794be",
          "locked": true,
          "points": 1,
          "schema_version": 3,
          "solution": false,
          "task": false
        },
        "id": "g7MIip-PJd0J"
      },
      "outputs": [],
      "source": []
    }
  ],
  "metadata": {
    "coursera": {
      "course_slug": "python-text-mining",
      "graded_item_id": "LvcWI",
      "launcher_item_id": "krne9",
      "part_id": "Mkp1I"
    },
    "kernelspec": {
      "display_name": "Python 3 (ipykernel)",
      "language": "python",
      "name": "python3"
    },
    "language_info": {
      "codemirror_mode": {
        "name": "ipython",
        "version": 3
      },
      "file_extension": ".py",
      "mimetype": "text/x-python",
      "name": "python",
      "nbconvert_exporter": "python",
      "pygments_lexer": "ipython3",
      "version": "3.10.8"
    },
    "vscode": {
      "interpreter": {
        "hash": "aee8b7b246df8f9039afb4144a1f6fd8d2ca17a180786b69acc140d282b71a49"
      }
    },
    "colab": {
      "provenance": [],
      "include_colab_link": true
    }
  },
  "nbformat": 4,
  "nbformat_minor": 0
}