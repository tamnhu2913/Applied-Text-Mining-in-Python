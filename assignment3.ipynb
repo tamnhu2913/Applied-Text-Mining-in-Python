{
  "cells": [
    {
      "cell_type": "markdown",
      "metadata": {
        "id": "view-in-github",
        "colab_type": "text"
      },
      "source": [
        "<a href=\"https://colab.research.google.com/github/tamnhu2913/Applied-Text-Mining-in-Python/blob/main/assignment3.ipynb\" target=\"_parent\"><img src=\"https://colab.research.google.com/assets/colab-badge.svg\" alt=\"Open In Colab\"/></a>"
      ]
    },
    {
      "cell_type": "markdown",
      "metadata": {
        "deletable": false,
        "editable": false,
        "nbgrader": {
          "cell_type": "markdown",
          "checksum": "7109c4020fb6a8bcaef37e41e738e03d",
          "grade": false,
          "grade_id": "cell-dcb6ef72e08dd5fe",
          "locked": true,
          "schema_version": 3,
          "solution": false,
          "task": false
        },
        "id": "1L2LZwaVpOHY"
      },
      "source": [
        "# Assignment 3\n",
        "\n",
        "In this assignment you will explore text message data and create models to predict if a message is spam or not."
      ]
    },
    {
      "cell_type": "code",
      "execution_count": 2,
      "metadata": {
        "deletable": false,
        "editable": false,
        "nbgrader": {
          "cell_type": "code",
          "checksum": "97714be9ccaf89bbff57d64a249680b8",
          "grade": false,
          "grade_id": "cell-f403cc37f510e3b4",
          "locked": true,
          "schema_version": 3,
          "solution": false,
          "task": false
        },
        "id": "_HwVgNm7pOHd",
        "colab": {
          "base_uri": "https://localhost:8080/",
          "height": 363
        },
        "outputId": "f8bf3fb9-6b4a-4e5e-c554-facbc232e5c8"
      },
      "outputs": [
        {
          "output_type": "execute_result",
          "data": {
            "text/plain": [
              "                                                text  target\n",
              "0  Go until jurong point, crazy.. Available only ...       0\n",
              "1                      Ok lar... Joking wif u oni...       0\n",
              "2  Free entry in 2 a wkly comp to win FA Cup fina...       1\n",
              "3  U dun say so early hor... U c already then say...       0\n",
              "4  Nah I don't think he goes to usf, he lives aro...       0\n",
              "5  FreeMsg Hey there darling it's been 3 week's n...       1\n",
              "6  Even my brother is not like to speak with me. ...       0\n",
              "7  As per your request 'Melle Melle (Oru Minnamin...       0\n",
              "8  WINNER!! As a valued network customer you have...       1\n",
              "9  Had your mobile 11 months or more? U R entitle...       1"
            ],
            "text/html": [
              "\n",
              "  <div id=\"df-16f05313-c39a-4963-b752-710fe7621743\" class=\"colab-df-container\">\n",
              "    <div>\n",
              "<style scoped>\n",
              "    .dataframe tbody tr th:only-of-type {\n",
              "        vertical-align: middle;\n",
              "    }\n",
              "\n",
              "    .dataframe tbody tr th {\n",
              "        vertical-align: top;\n",
              "    }\n",
              "\n",
              "    .dataframe thead th {\n",
              "        text-align: right;\n",
              "    }\n",
              "</style>\n",
              "<table border=\"1\" class=\"dataframe\">\n",
              "  <thead>\n",
              "    <tr style=\"text-align: right;\">\n",
              "      <th></th>\n",
              "      <th>text</th>\n",
              "      <th>target</th>\n",
              "    </tr>\n",
              "  </thead>\n",
              "  <tbody>\n",
              "    <tr>\n",
              "      <th>0</th>\n",
              "      <td>Go until jurong point, crazy.. Available only ...</td>\n",
              "      <td>0</td>\n",
              "    </tr>\n",
              "    <tr>\n",
              "      <th>1</th>\n",
              "      <td>Ok lar... Joking wif u oni...</td>\n",
              "      <td>0</td>\n",
              "    </tr>\n",
              "    <tr>\n",
              "      <th>2</th>\n",
              "      <td>Free entry in 2 a wkly comp to win FA Cup fina...</td>\n",
              "      <td>1</td>\n",
              "    </tr>\n",
              "    <tr>\n",
              "      <th>3</th>\n",
              "      <td>U dun say so early hor... U c already then say...</td>\n",
              "      <td>0</td>\n",
              "    </tr>\n",
              "    <tr>\n",
              "      <th>4</th>\n",
              "      <td>Nah I don't think he goes to usf, he lives aro...</td>\n",
              "      <td>0</td>\n",
              "    </tr>\n",
              "    <tr>\n",
              "      <th>5</th>\n",
              "      <td>FreeMsg Hey there darling it's been 3 week's n...</td>\n",
              "      <td>1</td>\n",
              "    </tr>\n",
              "    <tr>\n",
              "      <th>6</th>\n",
              "      <td>Even my brother is not like to speak with me. ...</td>\n",
              "      <td>0</td>\n",
              "    </tr>\n",
              "    <tr>\n",
              "      <th>7</th>\n",
              "      <td>As per your request 'Melle Melle (Oru Minnamin...</td>\n",
              "      <td>0</td>\n",
              "    </tr>\n",
              "    <tr>\n",
              "      <th>8</th>\n",
              "      <td>WINNER!! As a valued network customer you have...</td>\n",
              "      <td>1</td>\n",
              "    </tr>\n",
              "    <tr>\n",
              "      <th>9</th>\n",
              "      <td>Had your mobile 11 months or more? U R entitle...</td>\n",
              "      <td>1</td>\n",
              "    </tr>\n",
              "  </tbody>\n",
              "</table>\n",
              "</div>\n",
              "    <div class=\"colab-df-buttons\">\n",
              "\n",
              "  <div class=\"colab-df-container\">\n",
              "    <button class=\"colab-df-convert\" onclick=\"convertToInteractive('df-16f05313-c39a-4963-b752-710fe7621743')\"\n",
              "            title=\"Convert this dataframe to an interactive table.\"\n",
              "            style=\"display:none;\">\n",
              "\n",
              "  <svg xmlns=\"http://www.w3.org/2000/svg\" height=\"24px\" viewBox=\"0 -960 960 960\">\n",
              "    <path d=\"M120-120v-720h720v720H120Zm60-500h600v-160H180v160Zm220 220h160v-160H400v160Zm0 220h160v-160H400v160ZM180-400h160v-160H180v160Zm440 0h160v-160H620v160ZM180-180h160v-160H180v160Zm440 0h160v-160H620v160Z\"/>\n",
              "  </svg>\n",
              "    </button>\n",
              "\n",
              "  <style>\n",
              "    .colab-df-container {\n",
              "      display:flex;\n",
              "      gap: 12px;\n",
              "    }\n",
              "\n",
              "    .colab-df-convert {\n",
              "      background-color: #E8F0FE;\n",
              "      border: none;\n",
              "      border-radius: 50%;\n",
              "      cursor: pointer;\n",
              "      display: none;\n",
              "      fill: #1967D2;\n",
              "      height: 32px;\n",
              "      padding: 0 0 0 0;\n",
              "      width: 32px;\n",
              "    }\n",
              "\n",
              "    .colab-df-convert:hover {\n",
              "      background-color: #E2EBFA;\n",
              "      box-shadow: 0px 1px 2px rgba(60, 64, 67, 0.3), 0px 1px 3px 1px rgba(60, 64, 67, 0.15);\n",
              "      fill: #174EA6;\n",
              "    }\n",
              "\n",
              "    .colab-df-buttons div {\n",
              "      margin-bottom: 4px;\n",
              "    }\n",
              "\n",
              "    [theme=dark] .colab-df-convert {\n",
              "      background-color: #3B4455;\n",
              "      fill: #D2E3FC;\n",
              "    }\n",
              "\n",
              "    [theme=dark] .colab-df-convert:hover {\n",
              "      background-color: #434B5C;\n",
              "      box-shadow: 0px 1px 3px 1px rgba(0, 0, 0, 0.15);\n",
              "      filter: drop-shadow(0px 1px 2px rgba(0, 0, 0, 0.3));\n",
              "      fill: #FFFFFF;\n",
              "    }\n",
              "  </style>\n",
              "\n",
              "    <script>\n",
              "      const buttonEl =\n",
              "        document.querySelector('#df-16f05313-c39a-4963-b752-710fe7621743 button.colab-df-convert');\n",
              "      buttonEl.style.display =\n",
              "        google.colab.kernel.accessAllowed ? 'block' : 'none';\n",
              "\n",
              "      async function convertToInteractive(key) {\n",
              "        const element = document.querySelector('#df-16f05313-c39a-4963-b752-710fe7621743');\n",
              "        const dataTable =\n",
              "          await google.colab.kernel.invokeFunction('convertToInteractive',\n",
              "                                                    [key], {});\n",
              "        if (!dataTable) return;\n",
              "\n",
              "        const docLinkHtml = 'Like what you see? Visit the ' +\n",
              "          '<a target=\"_blank\" href=https://colab.research.google.com/notebooks/data_table.ipynb>data table notebook</a>'\n",
              "          + ' to learn more about interactive tables.';\n",
              "        element.innerHTML = '';\n",
              "        dataTable['output_type'] = 'display_data';\n",
              "        await google.colab.output.renderOutput(dataTable, element);\n",
              "        const docLink = document.createElement('div');\n",
              "        docLink.innerHTML = docLinkHtml;\n",
              "        element.appendChild(docLink);\n",
              "      }\n",
              "    </script>\n",
              "  </div>\n",
              "\n",
              "\n",
              "<div id=\"df-168685ad-8869-428f-992d-cffaa03d7a25\">\n",
              "  <button class=\"colab-df-quickchart\" onclick=\"quickchart('df-168685ad-8869-428f-992d-cffaa03d7a25')\"\n",
              "            title=\"Suggest charts\"\n",
              "            style=\"display:none;\">\n",
              "\n",
              "<svg xmlns=\"http://www.w3.org/2000/svg\" height=\"24px\"viewBox=\"0 0 24 24\"\n",
              "     width=\"24px\">\n",
              "    <g>\n",
              "        <path d=\"M19 3H5c-1.1 0-2 .9-2 2v14c0 1.1.9 2 2 2h14c1.1 0 2-.9 2-2V5c0-1.1-.9-2-2-2zM9 17H7v-7h2v7zm4 0h-2V7h2v10zm4 0h-2v-4h2v4z\"/>\n",
              "    </g>\n",
              "</svg>\n",
              "  </button>\n",
              "\n",
              "<style>\n",
              "  .colab-df-quickchart {\n",
              "      --bg-color: #E8F0FE;\n",
              "      --fill-color: #1967D2;\n",
              "      --hover-bg-color: #E2EBFA;\n",
              "      --hover-fill-color: #174EA6;\n",
              "      --disabled-fill-color: #AAA;\n",
              "      --disabled-bg-color: #DDD;\n",
              "  }\n",
              "\n",
              "  [theme=dark] .colab-df-quickchart {\n",
              "      --bg-color: #3B4455;\n",
              "      --fill-color: #D2E3FC;\n",
              "      --hover-bg-color: #434B5C;\n",
              "      --hover-fill-color: #FFFFFF;\n",
              "      --disabled-bg-color: #3B4455;\n",
              "      --disabled-fill-color: #666;\n",
              "  }\n",
              "\n",
              "  .colab-df-quickchart {\n",
              "    background-color: var(--bg-color);\n",
              "    border: none;\n",
              "    border-radius: 50%;\n",
              "    cursor: pointer;\n",
              "    display: none;\n",
              "    fill: var(--fill-color);\n",
              "    height: 32px;\n",
              "    padding: 0;\n",
              "    width: 32px;\n",
              "  }\n",
              "\n",
              "  .colab-df-quickchart:hover {\n",
              "    background-color: var(--hover-bg-color);\n",
              "    box-shadow: 0 1px 2px rgba(60, 64, 67, 0.3), 0 1px 3px 1px rgba(60, 64, 67, 0.15);\n",
              "    fill: var(--button-hover-fill-color);\n",
              "  }\n",
              "\n",
              "  .colab-df-quickchart-complete:disabled,\n",
              "  .colab-df-quickchart-complete:disabled:hover {\n",
              "    background-color: var(--disabled-bg-color);\n",
              "    fill: var(--disabled-fill-color);\n",
              "    box-shadow: none;\n",
              "  }\n",
              "\n",
              "  .colab-df-spinner {\n",
              "    border: 2px solid var(--fill-color);\n",
              "    border-color: transparent;\n",
              "    border-bottom-color: var(--fill-color);\n",
              "    animation:\n",
              "      spin 1s steps(1) infinite;\n",
              "  }\n",
              "\n",
              "  @keyframes spin {\n",
              "    0% {\n",
              "      border-color: transparent;\n",
              "      border-bottom-color: var(--fill-color);\n",
              "      border-left-color: var(--fill-color);\n",
              "    }\n",
              "    20% {\n",
              "      border-color: transparent;\n",
              "      border-left-color: var(--fill-color);\n",
              "      border-top-color: var(--fill-color);\n",
              "    }\n",
              "    30% {\n",
              "      border-color: transparent;\n",
              "      border-left-color: var(--fill-color);\n",
              "      border-top-color: var(--fill-color);\n",
              "      border-right-color: var(--fill-color);\n",
              "    }\n",
              "    40% {\n",
              "      border-color: transparent;\n",
              "      border-right-color: var(--fill-color);\n",
              "      border-top-color: var(--fill-color);\n",
              "    }\n",
              "    60% {\n",
              "      border-color: transparent;\n",
              "      border-right-color: var(--fill-color);\n",
              "    }\n",
              "    80% {\n",
              "      border-color: transparent;\n",
              "      border-right-color: var(--fill-color);\n",
              "      border-bottom-color: var(--fill-color);\n",
              "    }\n",
              "    90% {\n",
              "      border-color: transparent;\n",
              "      border-bottom-color: var(--fill-color);\n",
              "    }\n",
              "  }\n",
              "</style>\n",
              "\n",
              "  <script>\n",
              "    async function quickchart(key) {\n",
              "      const quickchartButtonEl =\n",
              "        document.querySelector('#' + key + ' button');\n",
              "      quickchartButtonEl.disabled = true;  // To prevent multiple clicks.\n",
              "      quickchartButtonEl.classList.add('colab-df-spinner');\n",
              "      try {\n",
              "        const charts = await google.colab.kernel.invokeFunction(\n",
              "            'suggestCharts', [key], {});\n",
              "      } catch (error) {\n",
              "        console.error('Error during call to suggestCharts:', error);\n",
              "      }\n",
              "      quickchartButtonEl.classList.remove('colab-df-spinner');\n",
              "      quickchartButtonEl.classList.add('colab-df-quickchart-complete');\n",
              "    }\n",
              "    (() => {\n",
              "      let quickchartButtonEl =\n",
              "        document.querySelector('#df-168685ad-8869-428f-992d-cffaa03d7a25 button');\n",
              "      quickchartButtonEl.style.display =\n",
              "        google.colab.kernel.accessAllowed ? 'block' : 'none';\n",
              "    })();\n",
              "  </script>\n",
              "</div>\n",
              "\n",
              "    </div>\n",
              "  </div>\n"
            ],
            "application/vnd.google.colaboratory.intrinsic+json": {
              "type": "dataframe",
              "variable_name": "spam_data",
              "summary": "{\n  \"name\": \"spam_data\",\n  \"rows\": 5572,\n  \"fields\": [\n    {\n      \"column\": \"text\",\n      \"properties\": {\n        \"dtype\": \"string\",\n        \"num_unique_values\": 5169,\n        \"samples\": [\n          \"Did u download the fring app?\",\n          \"Pass dis to all ur contacts n see wat u get! Red;i'm in luv wid u. Blue;u put a smile on my face. Purple;u r realy hot. Pink;u r so swt. Orange;i thnk i lyk u. Green;i realy wana go out wid u. Yelow;i wnt u bck. Black;i'm jealous of u. Brown;i miss you Nw plz giv me one color\",\n          \"Ok...\"\n        ],\n        \"semantic_type\": \"\",\n        \"description\": \"\"\n      }\n    },\n    {\n      \"column\": \"target\",\n      \"properties\": {\n        \"dtype\": \"number\",\n        \"std\": 0,\n        \"min\": 0,\n        \"max\": 1,\n        \"num_unique_values\": 2,\n        \"samples\": [\n          1,\n          0\n        ],\n        \"semantic_type\": \"\",\n        \"description\": \"\"\n      }\n    }\n  ]\n}"
            }
          },
          "metadata": {},
          "execution_count": 2
        }
      ],
      "source": [
        "import pandas as pd\n",
        "import numpy as np\n",
        "\n",
        "spam_data = pd.read_csv('assets/spam.csv')\n",
        "\n",
        "spam_data['target'] = np.where(spam_data['target']=='spam',1,0)\n",
        "spam_data.head(10)"
      ]
    },
    {
      "cell_type": "code",
      "execution_count": 3,
      "metadata": {
        "deletable": false,
        "editable": false,
        "nbgrader": {
          "cell_type": "code",
          "checksum": "8458ef46cc0956f75d602cfadbb125f8",
          "grade": false,
          "grade_id": "cell-73f5a763723ca5b1",
          "locked": true,
          "schema_version": 3,
          "solution": false,
          "task": false
        },
        "id": "sf1NidJipOHg"
      },
      "outputs": [],
      "source": [
        "from sklearn.model_selection import train_test_split\n",
        "\n",
        "\n",
        "X_train, X_test, y_train, y_test = train_test_split(spam_data['text'],\n",
        "                                                    spam_data['target'],\n",
        "                                                    random_state=0)"
      ]
    },
    {
      "cell_type": "markdown",
      "metadata": {
        "deletable": false,
        "editable": false,
        "nbgrader": {
          "cell_type": "markdown",
          "checksum": "aa1acdd18515eabb22a61270e7d9aed5",
          "grade": false,
          "grade_id": "cell-687d4f4eb100a178",
          "locked": true,
          "schema_version": 3,
          "solution": false,
          "task": false
        },
        "id": "mifB8vsBpOHg"
      },
      "source": [
        "### Question 1\n",
        "What percentage of the documents in `spam_data` are spam?\n",
        "\n",
        "*This function should return a float, the percent value (i.e. $ratio * 100$).*"
      ]
    },
    {
      "cell_type": "code",
      "execution_count": 4,
      "metadata": {
        "deletable": false,
        "nbgrader": {
          "cell_type": "code",
          "checksum": "2793aeb56f0b9f5455a8022808ce2c68",
          "grade": false,
          "grade_id": "cell-2707cd8ee068d8d3",
          "locked": false,
          "schema_version": 3,
          "solution": true,
          "task": false
        },
        "id": "EXR9ZN9gpOHh",
        "colab": {
          "base_uri": "https://localhost:8080/"
        },
        "outputId": "94aaa82d-4387-433e-a945-5a3d9529c4c8"
      },
      "outputs": [
        {
          "output_type": "execute_result",
          "data": {
            "text/plain": [
              "13.406317300789663"
            ]
          },
          "metadata": {},
          "execution_count": 4
        }
      ],
      "source": [
        "def answer_one():\n",
        "  return spam_data['target'].value_counts(normalize=True)[1]*100\n",
        "\n",
        "answer_one()"
      ]
    },
    {
      "cell_type": "code",
      "execution_count": 4,
      "metadata": {
        "deletable": false,
        "editable": false,
        "nbgrader": {
          "cell_type": "code",
          "checksum": "b439a749e0a4074aeacbe58049c5bf35",
          "grade": true,
          "grade_id": "cell-35ee2f1c33047f8c",
          "locked": true,
          "points": 1,
          "schema_version": 3,
          "solution": false,
          "task": false
        },
        "id": "S20pJvgEpOHh"
      },
      "outputs": [],
      "source": []
    },
    {
      "cell_type": "markdown",
      "metadata": {
        "deletable": false,
        "editable": false,
        "nbgrader": {
          "cell_type": "markdown",
          "checksum": "a1d3d36cf3d3ae8a7d2e0334eb0a7b9c",
          "grade": false,
          "grade_id": "cell-a86c7b0db64621be",
          "locked": true,
          "schema_version": 3,
          "solution": false,
          "task": false
        },
        "id": "84Bhk3IApOHi"
      },
      "source": [
        "### Question 2\n",
        "\n",
        "Fit the training data `X_train` using a Count Vectorizer with default parameters.\n",
        "\n",
        "What is the longest token in the vocabulary?\n",
        "\n",
        "*This function should return a string.*"
      ]
    },
    {
      "cell_type": "code",
      "execution_count": 5,
      "metadata": {
        "deletable": false,
        "nbgrader": {
          "cell_type": "code",
          "checksum": "a99146357529f0924de5432298a2a73b",
          "grade": false,
          "grade_id": "cell-ed0fec2012295ea3",
          "locked": false,
          "schema_version": 3,
          "solution": true,
          "task": false
        },
        "id": "Y-YNc-SRpOHj",
        "colab": {
          "base_uri": "https://localhost:8080/",
          "height": 36
        },
        "outputId": "89fdb1ab-b890-4532-b89b-7cc053359cc9"
      },
      "outputs": [
        {
          "output_type": "execute_result",
          "data": {
            "text/plain": [
              "'com1win150ppmx3age16subscription'"
            ],
            "application/vnd.google.colaboratory.intrinsic+json": {
              "type": "string"
            }
          },
          "metadata": {},
          "execution_count": 5
        }
      ],
      "source": [
        "from sklearn.feature_extraction.text import CountVectorizer\n",
        "\n",
        "def answer_two():\n",
        "  vect = CountVectorizer().fit(X_train)\n",
        "  return max(vect.get_feature_names_out(), key = len)\n",
        "\n",
        "answer_two()"
      ]
    },
    {
      "cell_type": "code",
      "execution_count": 5,
      "metadata": {
        "deletable": false,
        "editable": false,
        "nbgrader": {
          "cell_type": "code",
          "checksum": "50c106c6e36fbba1eac00269b3215cef",
          "grade": true,
          "grade_id": "cell-6eb97e449cd12bee",
          "locked": true,
          "points": 1,
          "schema_version": 3,
          "solution": false,
          "task": false
        },
        "id": "Dq3ENEM0pOHj"
      },
      "outputs": [],
      "source": []
    },
    {
      "cell_type": "markdown",
      "metadata": {
        "deletable": false,
        "editable": false,
        "nbgrader": {
          "cell_type": "markdown",
          "checksum": "77778225d05ba447bf388c0884703333",
          "grade": false,
          "grade_id": "cell-bf601421a6965e8f",
          "locked": true,
          "schema_version": 3,
          "solution": false,
          "task": false
        },
        "id": "9AJMs49DpOHk"
      },
      "source": [
        "### Question 3\n",
        "\n",
        "Fit and transform the training data `X_train` using a Count Vectorizer with default parameters.\n",
        "\n",
        "Next, fit a fit a multinomial Naive Bayes classifier model with smoothing `alpha=0.1`. Find the area under the curve (AUC) score using the transformed test data.\n",
        "\n",
        "*This function should return the AUC score as a float.*"
      ]
    },
    {
      "cell_type": "code",
      "execution_count": 6,
      "metadata": {
        "deletable": false,
        "nbgrader": {
          "cell_type": "code",
          "checksum": "978982d101ec080d93ae0fbceb856df2",
          "grade": false,
          "grade_id": "cell-d6823cd2d4b78595",
          "locked": false,
          "schema_version": 3,
          "solution": true,
          "task": false
        },
        "id": "ahq93ceHpOHk",
        "colab": {
          "base_uri": "https://localhost:8080/"
        },
        "outputId": "19a17c4e-da76-4a3b-cf7c-1a7c1e0b0ca1"
      },
      "outputs": [
        {
          "output_type": "execute_result",
          "data": {
            "text/plain": [
              "0.991545422134696"
            ]
          },
          "metadata": {},
          "execution_count": 6
        }
      ],
      "source": [
        "from sklearn.naive_bayes import MultinomialNB\n",
        "from sklearn.metrics import roc_auc_score\n",
        "\n",
        "def answer_three():\n",
        "  vect = CountVectorizer().fit(X_train)\n",
        "  X_train_vec = vect.transform(X_train)\n",
        "  X_test_vec = vect.transform(X_test)\n",
        "  model = MultinomialNB(alpha=0.1).fit(X_train_vec, y_train)\n",
        "  pred = model.predict_proba(X_test_vec)[:,1]\n",
        "\n",
        "  return roc_auc_score(y_test, pred)\n",
        "\n",
        "answer_three()"
      ]
    },
    {
      "cell_type": "code",
      "execution_count": 6,
      "metadata": {
        "deletable": false,
        "editable": false,
        "nbgrader": {
          "cell_type": "code",
          "checksum": "1e5d06cc86ab90502c72075822f243aa",
          "grade": true,
          "grade_id": "cell-c9dd3c3ec0b63773",
          "locked": true,
          "points": 1,
          "schema_version": 3,
          "solution": false,
          "task": false
        },
        "id": "C5rjG-vEpOHl"
      },
      "outputs": [],
      "source": []
    },
    {
      "cell_type": "markdown",
      "metadata": {
        "deletable": false,
        "editable": false,
        "nbgrader": {
          "cell_type": "markdown",
          "checksum": "18f455d16422cc21ef23082784d54d23",
          "grade": false,
          "grade_id": "cell-881103829277a63e",
          "locked": true,
          "schema_version": 3,
          "solution": false,
          "task": false
        },
        "id": "0utptLHppOHl"
      },
      "source": [
        "### Question 4\n",
        "\n",
        "Fit and transform the training data `X_train` using a Tfidf Vectorizer with default parameters. The transformed data will be a compressed sparse row matrix where the number of rows is the number of documents in `X_train`, the number of columns is the number of features found by the vectorizer in each document, and each value in the sparse matrix is the tf-idf value. First find the **max** tf-idf value for every feature.\n",
        "\n",
        "What 20 features have the smallest tf-idf and what 20 have the largest tf-idf among the **max** tf-idf values?\n",
        "\n",
        "Put these features in two series where each series is sorted by tf-idf value. The index of the series should be the feature name, and the data should be the tf-idf.\n",
        "\n",
        "The series of 20 features with smallest tf-idfs should be sorted smallest tfidf first, the list of 20 features with largest tf-idfs should be sorted largest first. Any entries with identical tf-ids should appear in lexigraphically increasing order by their feature name in boh series. For example, if the features \"a\", \"b\", \"c\" had the tf-idfs 1.0, 0.5, 1.0 in the series with the largest tf-idfs, then they should occur in the returned result in the order \"a\", \"c\", \"b\" with values 1.0, 1.0, 0.5.\n",
        "\n",
        "*This function should return a tuple of two series\n",
        "`(smallest tf-idfs series, largest tf-idfs series)`.*"
      ]
    },
    {
      "cell_type": "code",
      "execution_count": 7,
      "metadata": {
        "deletable": false,
        "nbgrader": {
          "cell_type": "code",
          "checksum": "398b7634e65c7fdec4e98f8966139517",
          "grade": false,
          "grade_id": "cell-76cb5ae962a7a6f5",
          "locked": false,
          "schema_version": 3,
          "solution": true,
          "task": false
        },
        "id": "ux14j1wYpOHl",
        "colab": {
          "base_uri": "https://localhost:8080/"
        },
        "outputId": "a2b8cb5e-67d8-4f16-9f28-24d004009449"
      },
      "outputs": [
        {
          "output_type": "execute_result",
          "data": {
            "text/plain": [
              "(feature\n",
              " 01223585334     0.224162\n",
              " 000pes          0.228624\n",
              " 00              0.237314\n",
              " 0089            0.242052\n",
              " 04              0.245530\n",
              " 02              0.251159\n",
              " 0207            0.260485\n",
              " 008704050406    0.260735\n",
              " 021             0.265662\n",
              " 03              0.274527\n",
              " 0430            0.275955\n",
              " 02072069400     0.280990\n",
              " 02085076972     0.281621\n",
              " 01223585236     0.284874\n",
              " 02073162414     0.288430\n",
              " 0121            0.302440\n",
              " 000             0.361385\n",
              " 05              0.461408\n",
              " 0125698789      0.501280\n",
              " 0578            0.520041\n",
              " Name: max, dtype: float64,\n",
              " feature\n",
              " ì_          0.656928\n",
              " û_thanks    0.566275\n",
              " ìï          0.562825\n",
              " û_          0.475710\n",
              " åè10        0.444475\n",
              " ûò          0.362962\n",
              " zeros       0.360084\n",
              " ûówell      0.348800\n",
              " zindgi      0.321114\n",
              " zoe         0.300639\n",
              " ó_          0.288038\n",
              " ûï          0.284009\n",
              " ûïharry     0.278142\n",
              " zouk        0.270640\n",
              " zhong       0.268083\n",
              " åòit        0.264900\n",
              " åð          0.257006\n",
              " åôrents     0.228624\n",
              " ì¼1         0.220940\n",
              " zyada       0.160557\n",
              " Name: max, dtype: float64)"
            ]
          },
          "metadata": {},
          "execution_count": 7
        }
      ],
      "source": [
        "from sklearn.feature_extraction.text import TfidfVectorizer\n",
        "\n",
        "def answer_four():\n",
        "  vect = TfidfVectorizer().fit(X_train)\n",
        "  feature_names = np.array(vect.get_feature_names_out())\n",
        "\n",
        "  X_train_vec = vect.transform(X_train)\n",
        "  sorted_tfidf_index = X_train_vec.max(0).toarray()[0].argsort()\n",
        "\n",
        "  df_tfidf = pd.DataFrame({'feature': feature_names, 'max': X_train_vec.max(0).toarray()[0]})\n",
        "  large = df_tfidf.tail(20).sort_values(by='max', ascending=False)\n",
        "  small = df_tfidf.head(20).sort_values(by='max', ascending=True)\n",
        "  large = large.set_index('feature')['max']\n",
        "  small = small.set_index('feature')['max']\n",
        "  return (small, large)\n",
        "\n",
        "answer_four()"
      ]
    },
    {
      "cell_type": "code",
      "execution_count": 7,
      "metadata": {
        "deletable": false,
        "editable": false,
        "nbgrader": {
          "cell_type": "code",
          "checksum": "65b6827daca8dc89566fe6731234e202",
          "grade": true,
          "grade_id": "cell-09a122df96d70683",
          "locked": true,
          "points": 1,
          "schema_version": 3,
          "solution": false,
          "task": false
        },
        "id": "d0BgtHESpOHm"
      },
      "outputs": [],
      "source": []
    },
    {
      "cell_type": "markdown",
      "metadata": {
        "deletable": false,
        "editable": false,
        "nbgrader": {
          "cell_type": "markdown",
          "checksum": "e40c91cd89e25cecdcb123bb447dadd1",
          "grade": false,
          "grade_id": "cell-cf833ad4436ff594",
          "locked": true,
          "schema_version": 3,
          "solution": false,
          "task": false
        },
        "id": "fuDDtWWKpOHm"
      },
      "source": [
        "### Question 5\n",
        "\n",
        "Fit and transform the training data `X_train` using a Tfidf Vectorizer ignoring terms that have a document frequency strictly lower than **3**.\n",
        "\n",
        "Then fit a multinomial Naive Bayes classifier model with smoothing `alpha=0.1` and compute the area under the curve (AUC) score using the transformed test data.\n",
        "\n",
        "*This function should return the AUC score as a float.*"
      ]
    },
    {
      "cell_type": "code",
      "execution_count": 8,
      "metadata": {
        "deletable": false,
        "nbgrader": {
          "cell_type": "code",
          "checksum": "8679a4b2f417981c7f2163a0fa692866",
          "grade": false,
          "grade_id": "cell-4f8dc958e73ebf9e",
          "locked": false,
          "schema_version": 3,
          "solution": true,
          "task": false
        },
        "id": "dhOlQA_mpOHm",
        "colab": {
          "base_uri": "https://localhost:8080/"
        },
        "outputId": "a11592e0-8b6b-474b-c650-e065b1a4cb93"
      },
      "outputs": [
        {
          "output_type": "execute_result",
          "data": {
            "text/plain": [
              "0.9954968337775665"
            ]
          },
          "metadata": {},
          "execution_count": 8
        }
      ],
      "source": [
        "def answer_five():\n",
        "  vect = TfidfVectorizer(min_df=3).fit(X_train)\n",
        "  X_train_vec = vect.transform(X_train)\n",
        "  X_test_vec = vect.transform(X_test)\n",
        "\n",
        "  model = MultinomialNB(alpha=0.1).fit(X_train_vec, y_train)\n",
        "  pred = model.predict_proba(X_test_vec)[:,1]\n",
        "  return roc_auc_score(y_test, pred)\n",
        "\n",
        "answer_five()"
      ]
    },
    {
      "cell_type": "code",
      "execution_count": 8,
      "metadata": {
        "deletable": false,
        "editable": false,
        "nbgrader": {
          "cell_type": "code",
          "checksum": "bcf549a0e74e7e1818c9accf7cd6556d",
          "grade": true,
          "grade_id": "cell-09607be9c976cae0",
          "locked": true,
          "points": 1,
          "schema_version": 3,
          "solution": false,
          "task": false
        },
        "id": "EU3TvF1zpOHn"
      },
      "outputs": [],
      "source": []
    },
    {
      "cell_type": "markdown",
      "metadata": {
        "deletable": false,
        "editable": false,
        "nbgrader": {
          "cell_type": "markdown",
          "checksum": "01decd9375604608e5ee425fd9f57f08",
          "grade": false,
          "grade_id": "cell-8140300bc6d127ff",
          "locked": true,
          "schema_version": 3,
          "solution": false,
          "task": false
        },
        "id": "J0_5ZtTZpOHn"
      },
      "source": [
        "### Question 6\n",
        "\n",
        "What is the average length of documents (number of characters) for not spam and spam documents?\n",
        "\n",
        "*This function should return a tuple (average length not spam, average length spam).*"
      ]
    },
    {
      "cell_type": "code",
      "execution_count": 9,
      "metadata": {
        "deletable": false,
        "nbgrader": {
          "cell_type": "code",
          "checksum": "94051f9c02aab671e630b67e818fa490",
          "grade": false,
          "grade_id": "cell-9ef7d7820ba0644d",
          "locked": false,
          "schema_version": 3,
          "solution": true,
          "task": false
        },
        "id": "yZYA8DbjpOHn",
        "colab": {
          "base_uri": "https://localhost:8080/"
        },
        "outputId": "d97ed3c9-e4f3-4286-b704-110bd1871815"
      },
      "outputs": [
        {
          "output_type": "execute_result",
          "data": {
            "text/plain": [
              "(71.02362694300518, 138.8661311914324)"
            ]
          },
          "metadata": {},
          "execution_count": 9
        }
      ],
      "source": [
        "def answer_six():\n",
        "  data = spam_data.copy()\n",
        "  data['length'] = data['text'].apply(len)\n",
        "  avg = data.groupby('target')['length'].mean().to_list()\n",
        "  return tuple(avg)\n",
        "\n",
        "answer_six()"
      ]
    },
    {
      "cell_type": "code",
      "execution_count": 9,
      "metadata": {
        "deletable": false,
        "editable": false,
        "nbgrader": {
          "cell_type": "code",
          "checksum": "7d0200c29dd8c642e469627c9ec80d0d",
          "grade": true,
          "grade_id": "cell-3cc7f12d3457b034",
          "locked": true,
          "points": 1,
          "schema_version": 3,
          "solution": false,
          "task": false
        },
        "id": "7jdBxRIvpOHn"
      },
      "outputs": [],
      "source": []
    },
    {
      "cell_type": "markdown",
      "metadata": {
        "deletable": false,
        "editable": false,
        "nbgrader": {
          "cell_type": "markdown",
          "checksum": "9ae20c6a5ea3577daaff67026ada729d",
          "grade": false,
          "grade_id": "cell-142fa11bdbd6c041",
          "locked": true,
          "schema_version": 3,
          "solution": false,
          "task": false
        },
        "id": "WCVxtgRQpOHn"
      },
      "source": [
        "<br>\n",
        "<br>\n",
        "The following function has been provided to help you combine new features into the training data:"
      ]
    },
    {
      "cell_type": "code",
      "execution_count": 10,
      "metadata": {
        "deletable": false,
        "editable": false,
        "nbgrader": {
          "cell_type": "code",
          "checksum": "d03fff196791b604effa8f3738498b59",
          "grade": false,
          "grade_id": "cell-b1b59ae1895c1675",
          "locked": true,
          "schema_version": 3,
          "solution": false,
          "task": false
        },
        "id": "DeyJBcogpOHo"
      },
      "outputs": [],
      "source": [
        "def add_feature(X, feature_to_add):\n",
        "    \"\"\"\n",
        "    Returns sparse feature matrix with added feature.\n",
        "    feature_to_add can also be a list of features.\n",
        "    \"\"\"\n",
        "    from scipy.sparse import csr_matrix, hstack\n",
        "    return hstack([X, csr_matrix(feature_to_add).T], 'csr')"
      ]
    },
    {
      "cell_type": "markdown",
      "metadata": {
        "deletable": false,
        "editable": false,
        "nbgrader": {
          "cell_type": "markdown",
          "checksum": "4388967b5944a88ddb4ba6ce1ee787bc",
          "grade": false,
          "grade_id": "cell-157cfd481d53666e",
          "locked": true,
          "schema_version": 3,
          "solution": false,
          "task": false
        },
        "id": "YDy0UesSpOHo"
      },
      "source": [
        "### Question 7\n",
        "\n",
        "Fit and transform the training data X_train using a Tfidf Vectorizer ignoring terms that have a document frequency strictly lower than **5**.\n",
        "\n",
        "Using this document-term matrix and an additional feature, **the length of document (number of characters)**, fit a Support Vector Classification model with regularization `C=10000`. Then compute the area under the curve (AUC) score using the transformed test data.\n",
        "\n",
        "*Hint: Since probability is set to false, use the model's `decision_function` on the test data when calculating the target scores to use in roc_auc_score*\n",
        "\n",
        "*This function should return the AUC score as a float.*"
      ]
    },
    {
      "cell_type": "code",
      "execution_count": 11,
      "metadata": {
        "deletable": false,
        "nbgrader": {
          "cell_type": "code",
          "checksum": "3308c695dc06f58ad0471f643e787794",
          "grade": false,
          "grade_id": "cell-8bd2ea8cadce6a40",
          "locked": false,
          "schema_version": 3,
          "solution": true,
          "task": false
        },
        "id": "0AQD84iVpOHo",
        "colab": {
          "base_uri": "https://localhost:8080/"
        },
        "outputId": "9db01a63-f760-4400-bb74-ba2d33420a45"
      },
      "outputs": [
        {
          "output_type": "execute_result",
          "data": {
            "text/plain": [
              "0.9963202213809143"
            ]
          },
          "metadata": {},
          "execution_count": 11
        }
      ],
      "source": [
        "from sklearn.svm import SVC\n",
        "\n",
        "def answer_seven():\n",
        "  vect = TfidfVectorizer(min_df=5).fit(X_train)\n",
        "  X_train_vec = vect.transform(X_train)\n",
        "  X_test_vec = vect.transform(X_test)\n",
        "\n",
        "  X_train_len = [len(s) for s in X_train]\n",
        "  X_test_len = [len(s) for s in X_test]\n",
        "\n",
        "  X_train_final = add_feature(X_train_vec, X_train_len)\n",
        "  X_test_final = add_feature(X_test_vec, X_test_len)\n",
        "\n",
        "  model = SVC(C=10000).fit(X_train_final, y_train)\n",
        "  pred = model.decision_function(X_test_final)\n",
        "\n",
        "  return roc_auc_score(y_test, pred)\n",
        "\n",
        "answer_seven()"
      ]
    },
    {
      "cell_type": "code",
      "execution_count": 11,
      "metadata": {
        "deletable": false,
        "editable": false,
        "nbgrader": {
          "cell_type": "code",
          "checksum": "c32d3ed51b28e5570648f91f13f78778",
          "grade": true,
          "grade_id": "cell-3627e3b7549e1a87",
          "locked": true,
          "points": 1,
          "schema_version": 3,
          "solution": false,
          "task": false
        },
        "id": "1Wr_YEJApOHo"
      },
      "outputs": [],
      "source": []
    },
    {
      "cell_type": "markdown",
      "metadata": {
        "deletable": false,
        "editable": false,
        "nbgrader": {
          "cell_type": "markdown",
          "checksum": "5450b9d6e5473f80506df772fcdeece5",
          "grade": false,
          "grade_id": "cell-47de3c090d6cc28c",
          "locked": true,
          "schema_version": 3,
          "solution": false,
          "task": false
        },
        "id": "jFj4xhKQpOHo"
      },
      "source": [
        "### Question 8\n",
        "\n",
        "What is the average number of digits per document for not spam and spam documents?\n",
        "\n",
        "*Hint: Use `\\d` for digit class*\n",
        "\n",
        "*This function should return a tuple (average # digits not spam, average # digits spam).*"
      ]
    },
    {
      "cell_type": "code",
      "execution_count": 12,
      "metadata": {
        "deletable": false,
        "nbgrader": {
          "cell_type": "code",
          "checksum": "f0796b63b394927cbb4f24bc1abfad05",
          "grade": false,
          "grade_id": "cell-bad49f3617c66d86",
          "locked": false,
          "schema_version": 3,
          "solution": true,
          "task": false
        },
        "id": "3SXs8TwIpOHp",
        "colab": {
          "base_uri": "https://localhost:8080/"
        },
        "outputId": "96e46f6c-4d5b-4828-fbd5-a1c4adc40172"
      },
      "outputs": [
        {
          "output_type": "execute_result",
          "data": {
            "text/plain": [
              "(0.2992746113989637, 15.759036144578314)"
            ]
          },
          "metadata": {},
          "execution_count": 12
        }
      ],
      "source": [
        "def answer_eight():\n",
        "  data = spam_data.copy()\n",
        "  data['len_digit'] = data['text'].str.findall(r'\\d').str.len()\n",
        "  avg = data.groupby('target')['len_digit'].mean().tolist()\n",
        "  return tuple(avg)\n",
        "\n",
        "answer_eight()"
      ]
    },
    {
      "cell_type": "code",
      "execution_count": 12,
      "metadata": {
        "deletable": false,
        "editable": false,
        "nbgrader": {
          "cell_type": "code",
          "checksum": "2443b6f2fae61333d4cb3d50ed6ee321",
          "grade": true,
          "grade_id": "cell-501bf7c435747a23",
          "locked": true,
          "points": 1,
          "schema_version": 3,
          "solution": false,
          "task": false
        },
        "id": "L_1b4lKNpOHp"
      },
      "outputs": [],
      "source": []
    },
    {
      "cell_type": "markdown",
      "metadata": {
        "deletable": false,
        "editable": false,
        "nbgrader": {
          "cell_type": "markdown",
          "checksum": "c12a31611d9f66f872fd93daf94889a8",
          "grade": false,
          "grade_id": "cell-1ddf2c6c108f6a85",
          "locked": true,
          "schema_version": 3,
          "solution": false,
          "task": false
        },
        "id": "7yV6dJi8pOHq"
      },
      "source": [
        "### Question 9\n",
        "\n",
        "Fit and transform the training data `X_train` using a Tfidf Vectorizer ignoring terms that have a document frequency strictly lower than **5** and using **word n-grams from n=1 to n=3** (unigrams, bigrams, and trigrams).\n",
        "\n",
        "Using this document-term matrix and the following additional features:\n",
        "* the length of document (number of characters)\n",
        "* **number of digits per document**\n",
        "\n",
        "fit a Logistic Regression model with regularization `C=100` and `max_iter=1000`. Then compute the area under the curve (AUC) score using the transformed test data.\n",
        "\n",
        "*This function should return the AUC score as a float.*"
      ]
    },
    {
      "cell_type": "code",
      "execution_count": 13,
      "metadata": {
        "deletable": false,
        "nbgrader": {
          "cell_type": "code",
          "checksum": "752f6ba55e9ea2c42030a0bef42d7bc0",
          "grade": false,
          "grade_id": "cell-bbd73da89641f28d",
          "locked": false,
          "schema_version": 3,
          "solution": true,
          "task": false
        },
        "id": "-xQQJzogpOHq",
        "colab": {
          "base_uri": "https://localhost:8080/"
        },
        "outputId": "eb03ce9b-b7d3-4865-8b78-e288af748b90"
      },
      "outputs": [
        {
          "output_type": "execute_result",
          "data": {
            "text/plain": [
              "0.9975298371899564"
            ]
          },
          "metadata": {},
          "execution_count": 13
        }
      ],
      "source": [
        "from sklearn.linear_model import LogisticRegression\n",
        "\n",
        "def answer_nine():\n",
        "  import re\n",
        "  vect = TfidfVectorizer(min_df=5, ngram_range=(1,3)).fit(X_train)\n",
        "  X_train_vec = vect.transform(X_train)\n",
        "  X_test_vec = vect.transform(X_test)\n",
        "\n",
        "  def len_doc(X):\n",
        "    return [len(s) for s in X]\n",
        "  def len_digit(X):\n",
        "    return [len(re.findall(r'\\d', s)) for s in X]\n",
        "\n",
        "  X_train_features = add_feature(X_train_vec, [len_doc(X_train), len_digit(X_train)])\n",
        "  X_test_features = add_feature(X_test_vec, [len_doc(X_test), len_digit(X_test)])\n",
        "\n",
        "  model = LogisticRegression(C=100, max_iter=1000).fit(X_train_features, y_train)\n",
        "  pred = model.predict_proba(X_test_features)[:,1]\n",
        "  return roc_auc_score(y_test, pred)\n",
        "\n",
        "answer_nine()"
      ]
    },
    {
      "cell_type": "code",
      "execution_count": 13,
      "metadata": {
        "deletable": false,
        "editable": false,
        "nbgrader": {
          "cell_type": "code",
          "checksum": "307ca68d7f0c4af478cfaca06c59f4f8",
          "grade": true,
          "grade_id": "cell-c7d3dd647af1574e",
          "locked": true,
          "points": 1,
          "schema_version": 3,
          "solution": false,
          "task": false
        },
        "id": "bhgGCCEppOHq"
      },
      "outputs": [],
      "source": []
    },
    {
      "cell_type": "markdown",
      "metadata": {
        "deletable": false,
        "editable": false,
        "nbgrader": {
          "cell_type": "markdown",
          "checksum": "d3d2d857dbe6d218394aff1a073463bf",
          "grade": false,
          "grade_id": "cell-822483537e34697a",
          "locked": true,
          "schema_version": 3,
          "solution": false,
          "task": false
        },
        "id": "qWgVnPA1pOHq"
      },
      "source": [
        "### Question 10\n",
        "\n",
        "What is the average number of non-word characters (anything other than a letter, digit or underscore) per document for not spam and spam documents?\n",
        "\n",
        "*Hint: Use `\\w` and `\\W` character classes*\n",
        "\n",
        "*This function should return a tuple (average # non-word characters not spam, average # non-word characters spam).*"
      ]
    },
    {
      "cell_type": "code",
      "execution_count": 14,
      "metadata": {
        "deletable": false,
        "nbgrader": {
          "cell_type": "code",
          "checksum": "dcd6cd538aa54ac0ec7b03365bd74689",
          "grade": false,
          "grade_id": "cell-8d2212cb850f907d",
          "locked": false,
          "schema_version": 3,
          "solution": true,
          "task": false
        },
        "id": "0QCmcmAxpOHr",
        "colab": {
          "base_uri": "https://localhost:8080/"
        },
        "outputId": "f10d2a05-a5b7-49c6-a4ef-34c91afa2935"
      },
      "outputs": [
        {
          "output_type": "execute_result",
          "data": {
            "text/plain": [
              "(17.29181347150259, 29.041499330655956)"
            ]
          },
          "metadata": {},
          "execution_count": 14
        }
      ],
      "source": [
        "def answer_ten():\n",
        "  data = spam_data.copy()\n",
        "  data['len_digit'] = data['text'].str.findall(r'\\W').str.len()\n",
        "  avg = data.groupby('target')['len_digit'].mean().tolist()\n",
        "  return tuple(avg)\n",
        "\n",
        "answer_ten()"
      ]
    },
    {
      "cell_type": "code",
      "execution_count": 14,
      "metadata": {
        "deletable": false,
        "editable": false,
        "nbgrader": {
          "cell_type": "code",
          "checksum": "b7901a0e4f5b169e1305280bf4a7a2c8",
          "grade": true,
          "grade_id": "cell-1d6ac20393ffe9ff",
          "locked": true,
          "points": 1,
          "schema_version": 3,
          "solution": false,
          "task": false
        },
        "id": "neClT16opOHr"
      },
      "outputs": [],
      "source": []
    },
    {
      "cell_type": "markdown",
      "metadata": {
        "deletable": false,
        "editable": false,
        "nbgrader": {
          "cell_type": "markdown",
          "checksum": "4aad0115bf7fe21b470680010fde6246",
          "grade": false,
          "grade_id": "cell-733de6a9548fe648",
          "locked": true,
          "schema_version": 3,
          "solution": false,
          "task": false
        },
        "id": "CzHOonAmpOHr"
      },
      "source": [
        "### Question 11\n",
        "\n",
        "Fit and transform the **first 2000 rows** of training data X_train using a Count Vectorizer ignoring terms that have a document frequency strictly lower than **5** and using **character n-grams from n=2 to n=5.**\n",
        "\n",
        "To tell Count Vectorizer to use character n-grams pass in `analyzer='char_wb'` which creates character n-grams only from text inside word boundaries. This should make the model more robust to spelling mistakes.\n",
        "\n",
        "Using this document-term matrix and the following additional features:\n",
        "* the length of document (number of characters)\n",
        "* number of digits per document\n",
        "* **number of non-word characters (anything other than a letter, digit or underscore.)**\n",
        "\n",
        "fit a Logistic Regression model with regularization C=100 and max_iter=1000. Then compute the area under the curve (AUC) score using the transformed test data.\n",
        "\n",
        "Also **find the 10 smallest and 10 largest coefficients from the model** and return them along with the AUC score in a tuple.\n",
        "\n",
        "The list of 10 smallest coefficients should be sorted smallest first, the list of 10 largest coefficients should be sorted largest first.\n",
        "\n",
        "The three features that were added to the document term matrix should have the following names should they appear in the list of coefficients:\n",
        "['length_of_doc', 'digit_count', 'non_word_char_count']\n",
        "\n",
        "*This function should return a tuple `(AUC score as a float, smallest coefs list, largest coefs list)`.*"
      ]
    },
    {
      "cell_type": "code",
      "execution_count": 15,
      "metadata": {
        "deletable": false,
        "nbgrader": {
          "cell_type": "code",
          "checksum": "a5efa62b1d9cf26ce2beb28db30c1b83",
          "grade": false,
          "grade_id": "cell-1233becfd19fff26",
          "locked": false,
          "schema_version": 3,
          "solution": true,
          "task": false
        },
        "id": "RIR_BpxypOHs",
        "colab": {
          "base_uri": "https://localhost:8080/"
        },
        "outputId": "168c95ba-a493-456c-d24e-59428fc0ce43"
      },
      "outputs": [
        {
          "output_type": "execute_result",
          "data": {
            "text/plain": [
              "(0.9931964416073884,\n",
              " ['. ', '..', ' i', 'at', ' m', 'n ', 'he', 'i ', 'ok', '? '],\n",
              " ['digit_count', 'co', 'ne', 'xt', ' st', 'xt ', 's ', 'es', ' f', 'on'])"
            ]
          },
          "metadata": {},
          "execution_count": 15
        }
      ],
      "source": [
        "def answer_eleven():\n",
        "  import re\n",
        "  vect = CountVectorizer(min_df=5, ngram_range=(2,5),analyzer='char_wb').fit(X_train[:2000])\n",
        "  X_train_vec = vect.transform(X_train[:2000])\n",
        "  X_test_vec = vect.transform(X_test)\n",
        "\n",
        "  def len_doc(X):\n",
        "    return [len(s) for s in X]\n",
        "  def len_digit(X):\n",
        "    return [len(re.findall(r'\\d', s)) for s in X]\n",
        "  def len_non_word(X):\n",
        "    return [len(re.findall(r'\\W', s)) for s in X]\n",
        "  X_train_features = add_feature(X_train_vec, [len_doc(X_train[:2000]),\n",
        "                                               len_digit(X_train[:2000]), len_non_word(X_train[:2000])])\n",
        "  X_test_features = add_feature(X_test_vec, [len_doc(X_test),\n",
        "                                             len_digit(X_test), len_non_word(X_test)])\n",
        "\n",
        "  model = LogisticRegression(C=100, max_iter=1000).fit(X_train_features, y_train[:2000])\n",
        "  pred = model.predict_proba(X_test_features)[:,1]\n",
        "\n",
        "  feature_names = np.concatenate([np.array(vect.get_feature_names_out()), ['length_of_doc', 'digit_count', 'non_word_char_count']])\n",
        "  sorted_coef_index = model.coef_[0].argsort()\n",
        "  small_coef = feature_names[sorted_coef_index[:10]]\n",
        "  large_coef = feature_names[sorted_coef_index[:-11:-1]]\n",
        "  return (roc_auc_score(y_test, pred), small_coef.tolist(), large_coef.tolist())\n",
        "\n",
        "answer_eleven()\n"
      ]
    },
    {
      "cell_type": "code",
      "execution_count": 15,
      "metadata": {
        "deletable": false,
        "editable": false,
        "nbgrader": {
          "cell_type": "code",
          "checksum": "478c0c9b96fa606218d12419d35cb768",
          "grade": true,
          "grade_id": "cell-477ea85f5bcd7cef",
          "locked": true,
          "points": 1,
          "schema_version": 3,
          "solution": false,
          "task": false
        },
        "id": "kXE14lvvpOHs"
      },
      "outputs": [],
      "source": []
    }
  ],
  "metadata": {
    "coursera": {
      "course_slug": "python-text-mining",
      "graded_item_id": "Pn19K",
      "launcher_item_id": "y1juS",
      "part_id": "ctlgo"
    },
    "kernelspec": {
      "display_name": "Python 3 (ipykernel)",
      "language": "python",
      "name": "python3"
    },
    "language_info": {
      "codemirror_mode": {
        "name": "ipython",
        "version": 3
      },
      "file_extension": ".py",
      "mimetype": "text/x-python",
      "name": "python",
      "nbconvert_exporter": "python",
      "pygments_lexer": "ipython3",
      "version": "3.8.10"
    },
    "colab": {
      "provenance": [],
      "include_colab_link": true
    }
  },
  "nbformat": 4,
  "nbformat_minor": 0
}